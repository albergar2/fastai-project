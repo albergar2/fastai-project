{
 "cells": [
  {
   "cell_type": "code",
   "execution_count": 49,
   "metadata": {},
   "outputs": [],
   "source": [
    "import sqlite3\n",
    "import pandas as pd\n",
    "import json\n",
    "from progressbar import ProgressBar\n",
    "from sklearn.utils import shuffle"
   ]
  },
  {
   "cell_type": "code",
   "execution_count": 2,
   "metadata": {},
   "outputs": [],
   "source": [
    "path = './fastai-project/homework/data/NELA19/'\n",
    "labels_data = pd.read_csv(path + 'labels.csv')"
   ]
  },
  {
   "cell_type": "code",
   "execution_count": 3,
   "metadata": {},
   "outputs": [
    {
     "data": {
      "text/html": [
       "<div>\n",
       "<style scoped>\n",
       "    .dataframe tbody tr th:only-of-type {\n",
       "        vertical-align: middle;\n",
       "    }\n",
       "\n",
       "    .dataframe tbody tr th {\n",
       "        vertical-align: top;\n",
       "    }\n",
       "\n",
       "    .dataframe thead th {\n",
       "        text-align: right;\n",
       "    }\n",
       "</style>\n",
       "<table border=\"1\" class=\"dataframe\">\n",
       "  <thead>\n",
       "    <tr style=\"text-align: right;\">\n",
       "      <th></th>\n",
       "      <th>source</th>\n",
       "      <th>n_articles</th>\n",
       "      <th>aggregated_label</th>\n",
       "      <th>Media Bias / Fact Check, label</th>\n",
       "    </tr>\n",
       "  </thead>\n",
       "  <tbody>\n",
       "    <tr>\n",
       "      <th>0</th>\n",
       "      <td>21stcenturywire</td>\n",
       "      <td>791.0</td>\n",
       "      <td>2.0</td>\n",
       "      <td>conspiracy_pseudoscience</td>\n",
       "    </tr>\n",
       "    <tr>\n",
       "      <th>1</th>\n",
       "      <td>abcnews</td>\n",
       "      <td>2861.0</td>\n",
       "      <td>0.0</td>\n",
       "      <td>left_center_bias</td>\n",
       "    </tr>\n",
       "    <tr>\n",
       "      <th>2</th>\n",
       "      <td>activistpost</td>\n",
       "      <td>2780.0</td>\n",
       "      <td>2.0</td>\n",
       "      <td>conspiracy_pseudoscience</td>\n",
       "    </tr>\n",
       "    <tr>\n",
       "      <th>3</th>\n",
       "      <td>addictinginfo</td>\n",
       "      <td>12.0</td>\n",
       "      <td>1.0</td>\n",
       "      <td>left_bias</td>\n",
       "    </tr>\n",
       "    <tr>\n",
       "      <th>4</th>\n",
       "      <td>adobochronicles</td>\n",
       "      <td>417.0</td>\n",
       "      <td>NaN</td>\n",
       "      <td>satire</td>\n",
       "    </tr>\n",
       "    <tr>\n",
       "      <th>5</th>\n",
       "      <td>ageofautism</td>\n",
       "      <td>646.0</td>\n",
       "      <td>2.0</td>\n",
       "      <td>conspiracy_pseudoscience</td>\n",
       "    </tr>\n",
       "    <tr>\n",
       "      <th>6</th>\n",
       "      <td>airwars</td>\n",
       "      <td>16.0</td>\n",
       "      <td>0.0</td>\n",
       "      <td>least_biased</td>\n",
       "    </tr>\n",
       "    <tr>\n",
       "      <th>7</th>\n",
       "      <td>aljazeera</td>\n",
       "      <td>11611.0</td>\n",
       "      <td>0.0</td>\n",
       "      <td>left_center_bias</td>\n",
       "    </tr>\n",
       "    <tr>\n",
       "      <th>8</th>\n",
       "      <td>americablognews</td>\n",
       "      <td>104.0</td>\n",
       "      <td>0.0</td>\n",
       "      <td>left_bias</td>\n",
       "    </tr>\n",
       "    <tr>\n",
       "      <th>9</th>\n",
       "      <td>anonnews</td>\n",
       "      <td>508.0</td>\n",
       "      <td>NaN</td>\n",
       "      <td>NaN</td>\n",
       "    </tr>\n",
       "  </tbody>\n",
       "</table>\n",
       "</div>"
      ],
      "text/plain": [
       "            source  n_articles  aggregated_label  \\\n",
       "0  21stcenturywire       791.0               2.0   \n",
       "1          abcnews      2861.0               0.0   \n",
       "2     activistpost      2780.0               2.0   \n",
       "3    addictinginfo        12.0               1.0   \n",
       "4  adobochronicles       417.0               NaN   \n",
       "5      ageofautism       646.0               2.0   \n",
       "6          airwars        16.0               0.0   \n",
       "7        aljazeera     11611.0               0.0   \n",
       "8  americablognews       104.0               0.0   \n",
       "9         anonnews       508.0               NaN   \n",
       "\n",
       "  Media Bias / Fact Check, label  \n",
       "0       conspiracy_pseudoscience  \n",
       "1               left_center_bias  \n",
       "2       conspiracy_pseudoscience  \n",
       "3                      left_bias  \n",
       "4                         satire  \n",
       "5       conspiracy_pseudoscience  \n",
       "6                   least_biased  \n",
       "7               left_center_bias  \n",
       "8                      left_bias  \n",
       "9                            NaN  "
      ]
     },
     "execution_count": 3,
     "metadata": {},
     "output_type": "execute_result"
    }
   ],
   "source": [
    "with open(path + 'source-metadata.json') as file:\n",
    "    metadata = (json.loads(file.read()))\n",
    "    \n",
    "for source in metadata.keys():\n",
    "    labels_data.loc[labels_data.source == source, 'n_articles'] = metadata[source]['articles']\n",
    "    \n",
    "cols = ['source', 'n_articles', 'aggregated_label', 'Media Bias / Fact Check, label']\n",
    "labels_data[cols].head(10)"
   ]
  },
  {
   "cell_type": "code",
   "execution_count": 4,
   "metadata": {},
   "outputs": [],
   "source": [
    "bias_list = ['left_bias', 'left_center_bias', 'right_center_bias', 'right_bias', 'questionable_source']\n",
    "labels_data = labels_data.loc[labels_data['Media Bias / Fact Check, label'].isin(bias_list)][cols]"
   ]
  },
  {
   "cell_type": "code",
   "execution_count": 5,
   "metadata": {},
   "outputs": [],
   "source": [
    "# Execute query and load results into pandas dataframe\n",
    "def execute_query_pandas(path, query):\n",
    "    conn = sqlite3.connect(path)\n",
    "    df = pd.read_sql_query(query, conn)\n",
    "    return df"
   ]
  },
  {
   "cell_type": "code",
   "execution_count": 6,
   "metadata": {},
   "outputs": [],
   "source": [
    "file = path + 'nela-eng-2019.db'\n",
    "query= ''' SELECT * FROM newsdata '''\n",
    "data = execute_query_pandas(file, query)"
   ]
  },
  {
   "cell_type": "code",
   "execution_count": 10,
   "metadata": {},
   "outputs": [],
   "source": [
    "data = data.loc[data['source'].isin(labels_data['source'])]\n",
    "for source in labels_data['source']:\n",
    "    data.loc[data.source == source, 'label'] = labels_data.loc[labels_data.source == source, 'aggregated_label'].values[0]\n",
    "    data.loc[data.source == source, 'bias'] = labels_data.loc[labels_data.source == source, 'Media Bias / Fact Check, label'].values[0]\n",
    "cols = ['title', 'content', 'label', 'bias']\n",
    "data = data[cols].dropna(subset = ['label', 'bias'], how='any')"
   ]
  },
  {
   "cell_type": "code",
   "execution_count": 24,
   "metadata": {},
   "outputs": [
    {
     "data": {
      "text/plain": [
       "right_bias             5000\n",
       "left_bias              5000\n",
       "right_center_bias      5000\n",
       "questionable_source    5000\n",
       "left_center_bias       5000\n",
       "Name: bias, dtype: int64"
      ]
     },
     "execution_count": 24,
     "metadata": {},
     "output_type": "execute_result"
    }
   ],
   "source": [
    "df['bias'].value_counts()"
   ]
  },
  {
   "cell_type": "code",
   "execution_count": 52,
   "metadata": {},
   "outputs": [],
   "source": [
    "samples_per_label = 5000\n",
    "seed = 0\n",
    "\n",
    "left_center_bias = data.loc[data['bias'] == 'left_center_bias'].sample(n=samples_per_label, random_state=seed)\n",
    "right_center_bias = data.loc[data['bias'] == 'right_center_bias'].sample(n=samples_per_label, random_state=seed)\n",
    "left_bias = data.loc[data['bias'] == 'left_bias'].sample(n=samples_per_label, random_state=seed)\n",
    "questionable_source = data.loc[data['bias'] == 'questionable_source'].sample(n=samples_per_label, random_state=seed)\n",
    "right_bias = data.loc[data['bias'] == 'right_bias'].sample(n=samples_per_label, random_state=seed)"
   ]
  },
  {
   "cell_type": "code",
   "execution_count": 53,
   "metadata": {},
   "outputs": [],
   "source": [
    "df = left_center_bias.append(right_center_bias).append(left_bias).append(questionable_source).append(right_bias)\n",
    "df_content = df[['content', 'bias']].rename(columns={'content':'text', 'bias':'label'})\n",
    "df_title = df[['title', 'bias']].rename(columns={'title':'text', 'bias':'label'})"
   ]
  },
  {
   "cell_type": "code",
   "execution_count": 54,
   "metadata": {},
   "outputs": [],
   "source": [
    "df_content = shuffle(df_content, random_state=seed)\n",
    "df_title = shuffle(df_title, random_state=seed)"
   ]
  },
  {
   "cell_type": "code",
   "execution_count": 55,
   "metadata": {},
   "outputs": [],
   "source": [
    "df_content.to_csv(path + 'data_content.csv', header=True, index=False)\n",
    "df_title.to_csv(path + 'data_title.csv', header=True, index=False)"
   ]
  },
  {
   "cell_type": "code",
   "execution_count": null,
   "metadata": {},
   "outputs": [],
   "source": []
  }
 ],
 "metadata": {
  "environment": {
   "name": "pytorch-gpu.1-4.m46",
   "type": "gcloud",
   "uri": "gcr.io/deeplearning-platform-release/pytorch-gpu.1-4:m46"
  },
  "kernelspec": {
   "display_name": "Python 3",
   "language": "python",
   "name": "python3"
  },
  "language_info": {
   "codemirror_mode": {
    "name": "ipython",
    "version": 3
   },
   "file_extension": ".py",
   "mimetype": "text/x-python",
   "name": "python",
   "nbconvert_exporter": "python",
   "pygments_lexer": "ipython3",
   "version": "3.7.6"
  }
 },
 "nbformat": 4,
 "nbformat_minor": 4
}
