{
 "cells": [
  {
   "cell_type": "code",
   "execution_count": 1,
   "metadata": {},
   "outputs": [],
   "source": [
    "import sqlite3\n",
    "import pandas as pd\n",
    "import json\n",
    "from progressbar import ProgressBar\n",
    "from fastai.text import *"
   ]
  },
  {
   "cell_type": "markdown",
   "metadata": {},
   "source": [
    "# Read Lablels"
   ]
  },
  {
   "cell_type": "code",
   "execution_count": 22,
   "metadata": {},
   "outputs": [],
   "source": [
    "bs = 32"
   ]
  },
  {
   "cell_type": "code",
   "execution_count": 2,
   "metadata": {},
   "outputs": [],
   "source": [
    "path = '../data/NELA2019/labels.csv'\n",
    "labels_data = pd.read_csv(path)"
   ]
  },
  {
   "cell_type": "code",
   "execution_count": 3,
   "metadata": {},
   "outputs": [
    {
     "data": {
      "text/html": [
       "<div>\n",
       "<style scoped>\n",
       "    .dataframe tbody tr th:only-of-type {\n",
       "        vertical-align: middle;\n",
       "    }\n",
       "\n",
       "    .dataframe tbody tr th {\n",
       "        vertical-align: top;\n",
       "    }\n",
       "\n",
       "    .dataframe thead th {\n",
       "        text-align: right;\n",
       "    }\n",
       "</style>\n",
       "<table border=\"1\" class=\"dataframe\">\n",
       "  <thead>\n",
       "    <tr style=\"text-align: right;\">\n",
       "      <th></th>\n",
       "      <th>source</th>\n",
       "      <th>aggregated_label</th>\n",
       "      <th>Pew Research Center, known_by_40%</th>\n",
       "      <th>Pew Research Center, total</th>\n",
       "      <th>Pew Research Center, consistently_liberal</th>\n",
       "      <th>Pew Research Center, mostly_liberal</th>\n",
       "      <th>Pew Research Center, mixed</th>\n",
       "      <th>Pew Research Center, mostly conservative</th>\n",
       "      <th>Pew Research Center, consistently conservative</th>\n",
       "      <th>Wikipedia, is_fake</th>\n",
       "      <th>...</th>\n",
       "      <th>Allsides, community_agree</th>\n",
       "      <th>Allsides, community_disagree</th>\n",
       "      <th>Allsides, community_label</th>\n",
       "      <th>BuzzFeed, leaning</th>\n",
       "      <th>PolitiFact, Pants on Fire!</th>\n",
       "      <th>PolitiFact, False</th>\n",
       "      <th>PolitiFact, Mostly False</th>\n",
       "      <th>PolitiFact, Half-True</th>\n",
       "      <th>PolitiFact, Mostly True</th>\n",
       "      <th>PolitiFact, True</th>\n",
       "    </tr>\n",
       "  </thead>\n",
       "  <tbody>\n",
       "    <tr>\n",
       "      <th>0</th>\n",
       "      <td>21stcenturywire</td>\n",
       "      <td>2.0</td>\n",
       "      <td>NaN</td>\n",
       "      <td>NaN</td>\n",
       "      <td>NaN</td>\n",
       "      <td>NaN</td>\n",
       "      <td>NaN</td>\n",
       "      <td>NaN</td>\n",
       "      <td>NaN</td>\n",
       "      <td>NaN</td>\n",
       "      <td>...</td>\n",
       "      <td>NaN</td>\n",
       "      <td>NaN</td>\n",
       "      <td>NaN</td>\n",
       "      <td>left</td>\n",
       "      <td>NaN</td>\n",
       "      <td>NaN</td>\n",
       "      <td>NaN</td>\n",
       "      <td>NaN</td>\n",
       "      <td>NaN</td>\n",
       "      <td>NaN</td>\n",
       "    </tr>\n",
       "    <tr>\n",
       "      <th>1</th>\n",
       "      <td>abcnews</td>\n",
       "      <td>0.0</td>\n",
       "      <td>1.0</td>\n",
       "      <td>1.0</td>\n",
       "      <td>1.0</td>\n",
       "      <td>1.0</td>\n",
       "      <td>1.0</td>\n",
       "      <td>1.0</td>\n",
       "      <td>-1.0</td>\n",
       "      <td>NaN</td>\n",
       "      <td>...</td>\n",
       "      <td>8964.0</td>\n",
       "      <td>6949.0</td>\n",
       "      <td>somewhat agree</td>\n",
       "      <td>NaN</td>\n",
       "      <td>NaN</td>\n",
       "      <td>NaN</td>\n",
       "      <td>NaN</td>\n",
       "      <td>NaN</td>\n",
       "      <td>NaN</td>\n",
       "      <td>NaN</td>\n",
       "    </tr>\n",
       "    <tr>\n",
       "      <th>2</th>\n",
       "      <td>activistpost</td>\n",
       "      <td>2.0</td>\n",
       "      <td>NaN</td>\n",
       "      <td>NaN</td>\n",
       "      <td>NaN</td>\n",
       "      <td>NaN</td>\n",
       "      <td>NaN</td>\n",
       "      <td>NaN</td>\n",
       "      <td>NaN</td>\n",
       "      <td>NaN</td>\n",
       "      <td>...</td>\n",
       "      <td>NaN</td>\n",
       "      <td>NaN</td>\n",
       "      <td>NaN</td>\n",
       "      <td>left</td>\n",
       "      <td>NaN</td>\n",
       "      <td>NaN</td>\n",
       "      <td>NaN</td>\n",
       "      <td>NaN</td>\n",
       "      <td>NaN</td>\n",
       "      <td>NaN</td>\n",
       "    </tr>\n",
       "    <tr>\n",
       "      <th>3</th>\n",
       "      <td>addictinginfo</td>\n",
       "      <td>1.0</td>\n",
       "      <td>NaN</td>\n",
       "      <td>NaN</td>\n",
       "      <td>NaN</td>\n",
       "      <td>NaN</td>\n",
       "      <td>NaN</td>\n",
       "      <td>NaN</td>\n",
       "      <td>NaN</td>\n",
       "      <td>NaN</td>\n",
       "      <td>...</td>\n",
       "      <td>NaN</td>\n",
       "      <td>NaN</td>\n",
       "      <td>NaN</td>\n",
       "      <td>left</td>\n",
       "      <td>NaN</td>\n",
       "      <td>NaN</td>\n",
       "      <td>NaN</td>\n",
       "      <td>NaN</td>\n",
       "      <td>NaN</td>\n",
       "      <td>NaN</td>\n",
       "    </tr>\n",
       "    <tr>\n",
       "      <th>4</th>\n",
       "      <td>adobochronicles</td>\n",
       "      <td>NaN</td>\n",
       "      <td>NaN</td>\n",
       "      <td>NaN</td>\n",
       "      <td>NaN</td>\n",
       "      <td>NaN</td>\n",
       "      <td>NaN</td>\n",
       "      <td>NaN</td>\n",
       "      <td>NaN</td>\n",
       "      <td>NaN</td>\n",
       "      <td>...</td>\n",
       "      <td>NaN</td>\n",
       "      <td>NaN</td>\n",
       "      <td>NaN</td>\n",
       "      <td>NaN</td>\n",
       "      <td>NaN</td>\n",
       "      <td>NaN</td>\n",
       "      <td>NaN</td>\n",
       "      <td>NaN</td>\n",
       "      <td>NaN</td>\n",
       "      <td>NaN</td>\n",
       "    </tr>\n",
       "  </tbody>\n",
       "</table>\n",
       "<p>5 rows × 48 columns</p>\n",
       "</div>"
      ],
      "text/plain": [
       "            source  aggregated_label  Pew Research Center, known_by_40%  \\\n",
       "0  21stcenturywire               2.0                                NaN   \n",
       "1          abcnews               0.0                                1.0   \n",
       "2     activistpost               2.0                                NaN   \n",
       "3    addictinginfo               1.0                                NaN   \n",
       "4  adobochronicles               NaN                                NaN   \n",
       "\n",
       "   Pew Research Center, total  Pew Research Center, consistently_liberal  \\\n",
       "0                         NaN                                        NaN   \n",
       "1                         1.0                                        1.0   \n",
       "2                         NaN                                        NaN   \n",
       "3                         NaN                                        NaN   \n",
       "4                         NaN                                        NaN   \n",
       "\n",
       "   Pew Research Center, mostly_liberal  Pew Research Center, mixed  \\\n",
       "0                                  NaN                         NaN   \n",
       "1                                  1.0                         1.0   \n",
       "2                                  NaN                         NaN   \n",
       "3                                  NaN                         NaN   \n",
       "4                                  NaN                         NaN   \n",
       "\n",
       "   Pew Research Center, mostly conservative  \\\n",
       "0                                       NaN   \n",
       "1                                       1.0   \n",
       "2                                       NaN   \n",
       "3                                       NaN   \n",
       "4                                       NaN   \n",
       "\n",
       "   Pew Research Center, consistently conservative  Wikipedia, is_fake  ...  \\\n",
       "0                                             NaN                 NaN  ...   \n",
       "1                                            -1.0                 NaN  ...   \n",
       "2                                             NaN                 NaN  ...   \n",
       "3                                             NaN                 NaN  ...   \n",
       "4                                             NaN                 NaN  ...   \n",
       "\n",
       "   Allsides, community_agree  Allsides, community_disagree  \\\n",
       "0                        NaN                           NaN   \n",
       "1                     8964.0                        6949.0   \n",
       "2                        NaN                           NaN   \n",
       "3                        NaN                           NaN   \n",
       "4                        NaN                           NaN   \n",
       "\n",
       "   Allsides, community_label  BuzzFeed, leaning  PolitiFact, Pants on Fire!  \\\n",
       "0                        NaN               left                         NaN   \n",
       "1             somewhat agree                NaN                         NaN   \n",
       "2                        NaN               left                         NaN   \n",
       "3                        NaN               left                         NaN   \n",
       "4                        NaN                NaN                         NaN   \n",
       "\n",
       "   PolitiFact, False  PolitiFact, Mostly False  PolitiFact, Half-True  \\\n",
       "0                NaN                       NaN                    NaN   \n",
       "1                NaN                       NaN                    NaN   \n",
       "2                NaN                       NaN                    NaN   \n",
       "3                NaN                       NaN                    NaN   \n",
       "4                NaN                       NaN                    NaN   \n",
       "\n",
       "   PolitiFact, Mostly True  PolitiFact, True  \n",
       "0                      NaN               NaN  \n",
       "1                      NaN               NaN  \n",
       "2                      NaN               NaN  \n",
       "3                      NaN               NaN  \n",
       "4                      NaN               NaN  \n",
       "\n",
       "[5 rows x 48 columns]"
      ]
     },
     "execution_count": 3,
     "metadata": {},
     "output_type": "execute_result"
    }
   ],
   "source": [
    "labels_data.head()"
   ]
  },
  {
   "cell_type": "code",
   "execution_count": 4,
   "metadata": {},
   "outputs": [],
   "source": [
    "with open('../data/NELA2019/source-metadata.json') as file:\n",
    "    metadata = (json.loads(file.read()))"
   ]
  },
  {
   "cell_type": "code",
   "execution_count": 5,
   "metadata": {},
   "outputs": [],
   "source": [
    "for source in metadata.keys():\n",
    "    labels_data.loc[labels_data.source == source, 'n_articles'] = metadata[source]['articles']"
   ]
  },
  {
   "cell_type": "code",
   "execution_count": 6,
   "metadata": {},
   "outputs": [
    {
     "data": {
      "text/html": [
       "<div>\n",
       "<style scoped>\n",
       "    .dataframe tbody tr th:only-of-type {\n",
       "        vertical-align: middle;\n",
       "    }\n",
       "\n",
       "    .dataframe tbody tr th {\n",
       "        vertical-align: top;\n",
       "    }\n",
       "\n",
       "    .dataframe thead th {\n",
       "        text-align: right;\n",
       "    }\n",
       "</style>\n",
       "<table border=\"1\" class=\"dataframe\">\n",
       "  <thead>\n",
       "    <tr style=\"text-align: right;\">\n",
       "      <th></th>\n",
       "      <th>source</th>\n",
       "      <th>n_articles</th>\n",
       "      <th>aggregated_label</th>\n",
       "      <th>Media Bias / Fact Check, label</th>\n",
       "    </tr>\n",
       "  </thead>\n",
       "  <tbody>\n",
       "    <tr>\n",
       "      <th>0</th>\n",
       "      <td>21stcenturywire</td>\n",
       "      <td>791.0</td>\n",
       "      <td>2.0</td>\n",
       "      <td>conspiracy_pseudoscience</td>\n",
       "    </tr>\n",
       "    <tr>\n",
       "      <th>1</th>\n",
       "      <td>abcnews</td>\n",
       "      <td>2861.0</td>\n",
       "      <td>0.0</td>\n",
       "      <td>left_center_bias</td>\n",
       "    </tr>\n",
       "    <tr>\n",
       "      <th>2</th>\n",
       "      <td>activistpost</td>\n",
       "      <td>2780.0</td>\n",
       "      <td>2.0</td>\n",
       "      <td>conspiracy_pseudoscience</td>\n",
       "    </tr>\n",
       "    <tr>\n",
       "      <th>3</th>\n",
       "      <td>addictinginfo</td>\n",
       "      <td>12.0</td>\n",
       "      <td>1.0</td>\n",
       "      <td>left_bias</td>\n",
       "    </tr>\n",
       "    <tr>\n",
       "      <th>4</th>\n",
       "      <td>adobochronicles</td>\n",
       "      <td>417.0</td>\n",
       "      <td>NaN</td>\n",
       "      <td>satire</td>\n",
       "    </tr>\n",
       "    <tr>\n",
       "      <th>5</th>\n",
       "      <td>ageofautism</td>\n",
       "      <td>646.0</td>\n",
       "      <td>2.0</td>\n",
       "      <td>conspiracy_pseudoscience</td>\n",
       "    </tr>\n",
       "    <tr>\n",
       "      <th>6</th>\n",
       "      <td>airwars</td>\n",
       "      <td>16.0</td>\n",
       "      <td>0.0</td>\n",
       "      <td>least_biased</td>\n",
       "    </tr>\n",
       "    <tr>\n",
       "      <th>7</th>\n",
       "      <td>aljazeera</td>\n",
       "      <td>11611.0</td>\n",
       "      <td>0.0</td>\n",
       "      <td>left_center_bias</td>\n",
       "    </tr>\n",
       "    <tr>\n",
       "      <th>8</th>\n",
       "      <td>americablognews</td>\n",
       "      <td>104.0</td>\n",
       "      <td>0.0</td>\n",
       "      <td>left_bias</td>\n",
       "    </tr>\n",
       "    <tr>\n",
       "      <th>9</th>\n",
       "      <td>anonnews</td>\n",
       "      <td>508.0</td>\n",
       "      <td>NaN</td>\n",
       "      <td>NaN</td>\n",
       "    </tr>\n",
       "  </tbody>\n",
       "</table>\n",
       "</div>"
      ],
      "text/plain": [
       "            source  n_articles  aggregated_label  \\\n",
       "0  21stcenturywire       791.0               2.0   \n",
       "1          abcnews      2861.0               0.0   \n",
       "2     activistpost      2780.0               2.0   \n",
       "3    addictinginfo        12.0               1.0   \n",
       "4  adobochronicles       417.0               NaN   \n",
       "5      ageofautism       646.0               2.0   \n",
       "6          airwars        16.0               0.0   \n",
       "7        aljazeera     11611.0               0.0   \n",
       "8  americablognews       104.0               0.0   \n",
       "9         anonnews       508.0               NaN   \n",
       "\n",
       "  Media Bias / Fact Check, label  \n",
       "0       conspiracy_pseudoscience  \n",
       "1               left_center_bias  \n",
       "2       conspiracy_pseudoscience  \n",
       "3                      left_bias  \n",
       "4                         satire  \n",
       "5       conspiracy_pseudoscience  \n",
       "6                   least_biased  \n",
       "7               left_center_bias  \n",
       "8                      left_bias  \n",
       "9                            NaN  "
      ]
     },
     "execution_count": 6,
     "metadata": {},
     "output_type": "execute_result"
    }
   ],
   "source": [
    "cols = ['source', 'n_articles', 'aggregated_label', 'Media Bias / Fact Check, label']\n",
    "labels_data[cols].head(10)"
   ]
  },
  {
   "cell_type": "markdown",
   "metadata": {},
   "source": [
    "# Read Data"
   ]
  },
  {
   "cell_type": "code",
   "execution_count": 7,
   "metadata": {},
   "outputs": [],
   "source": [
    "# Execute query and load results into pandas dataframe\n",
    "def execute_query_pandas(path, query):\n",
    "    conn = sqlite3.connect(path)\n",
    "    df = pd.read_sql_query(query, conn)\n",
    "    return df"
   ]
  },
  {
   "cell_type": "code",
   "execution_count": 8,
   "metadata": {},
   "outputs": [],
   "source": [
    "path = '../data/NELA2019/nela-eng-2019.db'\n",
    "query= ''' SELECT * FROM newsdata WHERE strftime('%m', date) in ('01')'''\n",
    "#query= ''' SELECT * FROM newsdata '''\n",
    "\n",
    "data = execute_query_pandas(path, query)"
   ]
  },
  {
   "cell_type": "code",
   "execution_count": 9,
   "metadata": {},
   "outputs": [],
   "source": [
    "for source in labels_data['source']:\n",
    "    data.loc[data.source == source, 'label'] = labels_data.loc[labels_data.source == source, 'aggregated_label'].values[0]\n",
    "    data.loc[data.source == source, 'bias'] = labels_data.loc[labels_data.source == source, 'Media Bias / Fact Check, label'].values[0]\n",
    "\n",
    "data = data.dropna(subset = ['label', 'bias'], how='any')"
   ]
  },
  {
   "cell_type": "code",
   "execution_count": 10,
   "metadata": {},
   "outputs": [
    {
     "data": {
      "text/html": [
       "<div>\n",
       "<style scoped>\n",
       "    .dataframe tbody tr th:only-of-type {\n",
       "        vertical-align: middle;\n",
       "    }\n",
       "\n",
       "    .dataframe tbody tr th {\n",
       "        vertical-align: top;\n",
       "    }\n",
       "\n",
       "    .dataframe thead th {\n",
       "        text-align: right;\n",
       "    }\n",
       "</style>\n",
       "<table border=\"1\" class=\"dataframe\">\n",
       "  <thead>\n",
       "    <tr style=\"text-align: right;\">\n",
       "      <th></th>\n",
       "      <th>id</th>\n",
       "      <th>date</th>\n",
       "      <th>source</th>\n",
       "      <th>title</th>\n",
       "      <th>content</th>\n",
       "      <th>author</th>\n",
       "      <th>url</th>\n",
       "      <th>published</th>\n",
       "      <th>published_utc</th>\n",
       "      <th>collection_utc</th>\n",
       "      <th>label</th>\n",
       "      <th>bias</th>\n",
       "    </tr>\n",
       "  </thead>\n",
       "  <tbody>\n",
       "    <tr>\n",
       "      <th>17874</th>\n",
       "      <td>thetelegraph--2019-01-23--Property tycoon Nick...</td>\n",
       "      <td>2019-01-23</td>\n",
       "      <td>thetelegraph</td>\n",
       "      <td>Property tycoon Nick Candy buys fallen augment...</td>\n",
       "      <td>Property tycoon Nick Candy has acquired Blippa...</td>\n",
       "      <td>Matthew Field</td>\n",
       "      <td>https://www.telegraph.co.uk/technology/2019/01...</td>\n",
       "      <td>2019-01-23 12:41:09+00:00</td>\n",
       "      <td>1548265269</td>\n",
       "      <td>1567551193</td>\n",
       "      <td>1.0</td>\n",
       "      <td>right_center_bias</td>\n",
       "    </tr>\n",
       "    <tr>\n",
       "      <th>113973</th>\n",
       "      <td>thedailymirror--2019-01-16--How Ewan McGregors...</td>\n",
       "      <td>2019-01-16</td>\n",
       "      <td>thedailymirror</td>\n",
       "      <td>How Ewan McGregor's affair rocked family as da...</td>\n",
       "      <td>Ewan McGregor 's family found out about his af...</td>\n",
       "      <td>Emmeline Saunders</td>\n",
       "      <td>https://www.mirror.co.uk/3am/celebrity-news/br...</td>\n",
       "      <td>2019-01-16 13:56:46+00:00</td>\n",
       "      <td>1547665006</td>\n",
       "      <td>1567552238</td>\n",
       "      <td>1.0</td>\n",
       "      <td>left_bias</td>\n",
       "    </tr>\n",
       "    <tr>\n",
       "      <th>137903</th>\n",
       "      <td>theguardianuk--2019-01-12--Small energy firms ...</td>\n",
       "      <td>2019-01-12</td>\n",
       "      <td>theguardianuk</td>\n",
       "      <td>Small energy firms' customers warned over cred...</td>\n",
       "      <td>Consumers signed up to small energy firms are ...</td>\n",
       "      <td>Miles Brignall</td>\n",
       "      <td>https://www.theguardian.com/money/2019/jan/12/...</td>\n",
       "      <td>2019-01-12 07:45:33+00:00</td>\n",
       "      <td>1547297133</td>\n",
       "      <td>1567552814</td>\n",
       "      <td>0.0</td>\n",
       "      <td>left_center_bias</td>\n",
       "    </tr>\n",
       "  </tbody>\n",
       "</table>\n",
       "</div>"
      ],
      "text/plain": [
       "                                                       id        date  \\\n",
       "17874   thetelegraph--2019-01-23--Property tycoon Nick...  2019-01-23   \n",
       "113973  thedailymirror--2019-01-16--How Ewan McGregors...  2019-01-16   \n",
       "137903  theguardianuk--2019-01-12--Small energy firms ...  2019-01-12   \n",
       "\n",
       "                source                                              title  \\\n",
       "17874     thetelegraph  Property tycoon Nick Candy buys fallen augment...   \n",
       "113973  thedailymirror  How Ewan McGregor's affair rocked family as da...   \n",
       "137903   theguardianuk  Small energy firms' customers warned over cred...   \n",
       "\n",
       "                                                  content             author  \\\n",
       "17874   Property tycoon Nick Candy has acquired Blippa...      Matthew Field   \n",
       "113973  Ewan McGregor 's family found out about his af...  Emmeline Saunders   \n",
       "137903  Consumers signed up to small energy firms are ...     Miles Brignall   \n",
       "\n",
       "                                                      url  \\\n",
       "17874   https://www.telegraph.co.uk/technology/2019/01...   \n",
       "113973  https://www.mirror.co.uk/3am/celebrity-news/br...   \n",
       "137903  https://www.theguardian.com/money/2019/jan/12/...   \n",
       "\n",
       "                        published  published_utc  collection_utc  label  \\\n",
       "17874   2019-01-23 12:41:09+00:00     1548265269      1567551193    1.0   \n",
       "113973  2019-01-16 13:56:46+00:00     1547665006      1567552238    1.0   \n",
       "137903  2019-01-12 07:45:33+00:00     1547297133      1567552814    0.0   \n",
       "\n",
       "                     bias  \n",
       "17874   right_center_bias  \n",
       "113973          left_bias  \n",
       "137903   left_center_bias  "
      ]
     },
     "execution_count": 10,
     "metadata": {},
     "output_type": "execute_result"
    }
   ],
   "source": [
    "data.sample(3)"
   ]
  },
  {
   "cell_type": "markdown",
   "metadata": {},
   "source": [
    "# Process Data"
   ]
  },
  {
   "cell_type": "code",
   "execution_count": 12,
   "metadata": {},
   "outputs": [
    {
     "data": {
      "text/html": [],
      "text/plain": [
       "<IPython.core.display.HTML object>"
      ]
     },
     "metadata": {},
     "output_type": "display_data"
    },
    {
     "data": {
      "text/html": [],
      "text/plain": [
       "<IPython.core.display.HTML object>"
      ]
     },
     "metadata": {},
     "output_type": "display_data"
    },
    {
     "data": {
      "text/html": [],
      "text/plain": [
       "<IPython.core.display.HTML object>"
      ]
     },
     "metadata": {},
     "output_type": "display_data"
    },
    {
     "data": {
      "text/html": [],
      "text/plain": [
       "<IPython.core.display.HTML object>"
      ]
     },
     "metadata": {},
     "output_type": "display_data"
    }
   ],
   "source": [
    "data_clean = (TextList.from_df(data, cols='content')\n",
    "                                .split_by_rand_pct(0.1)\n",
    "                                .label_from_df(cols='label')\n",
    "                                .label_for_lm() \n",
    "                                .databunch(bs=32))"
   ]
  },
  {
   "cell_type": "code",
   "execution_count": 14,
   "metadata": {},
   "outputs": [],
   "source": [
    "data_clean.save('data_lm_01.pkl')"
   ]
  },
  {
   "cell_type": "code",
   "execution_count": 15,
   "metadata": {},
   "outputs": [
    {
     "data": {
      "text/html": [
       "<table border=\"1\" class=\"dataframe\">\n",
       "  <thead>\n",
       "    <tr style=\"text-align: right;\">\n",
       "      <th>idx</th>\n",
       "      <th>text</th>\n",
       "    </tr>\n",
       "  </thead>\n",
       "  <tbody>\n",
       "    <tr>\n",
       "      <td>0</td>\n",
       "      <td>11 ] xxbos [ 2 5 xxunk 5 ... 81 342 1969 11 ] xxbos [ 2 5 312 25 ... xxunk xxunk 11 26 ] xxbos [ 2 5 9 xxunk ... 104 0 xxunk 11 ] xxbos [ 2 6 225 92 ... 93 73 103 26 ] xxbos [ 2 5 9 xxunk ... 57 135 188 11 ] xxbos [ 2 16 144 74 ... 199</td>\n",
       "    </tr>\n",
       "    <tr>\n",
       "      <td>1</td>\n",
       "      <td>47 196 ... xxunk 136 xxunk 14 ] xxbos [ 2 5 9 5 ... 57 xxunk 11 26 ] xxbos [ 2 5 263 51 ... 88 xxunk 11 26 ] xxbos [ 2 5 44 71 ... 36 xxunk 11 26 ] xxbos [ 2 5 27 29 ... 64 9 xxunk 11 ] xxbos [ 2 16 5 245 ... 1815 151 xxunk 11 ] xxbos [</td>\n",
       "    </tr>\n",
       "    <tr>\n",
       "      <td>2</td>\n",
       "      <td>27 11 26 ] xxbos [ 2 5 9 5 xxunk xxunk 5 xxunk 5 xxunk 12 9 5 xxunk 10 46 49 737 ] xxbos [ 2 6 157 290 ... xxunk 5 xxunk 11 ] xxbos [ 2 16 5 xxunk ... xxunk xxunk xxunk 11 ] xxbos [ 2 5 9 5 ... 88 498 585 11 ] xxbos [ 2 5 9 5 ... 88 498</td>\n",
       "    </tr>\n",
       "    <tr>\n",
       "      <td>3</td>\n",
       "      <td>2 5 xxunk 5 ... xxunk xxunk 11 26 ] xxbos [ 2 5 xxunk 53 ... 341 5 xxunk 11 ] xxbos [ 2 16 82 139 ... xxunk 6 269 11 ] xxbos [ 2 5 xxunk 5 ... xxunk 5 xxunk 11 ] xxbos [ 2 5 176 67 ... 12 xxunk 11 30 ] xxbos [ 2 16 xxunk xxunk ... 5 322 539 11 ]</td>\n",
       "    </tr>\n",
       "    <tr>\n",
       "      <td>4</td>\n",
       "      <td>2 5 73 25 ... 109 97 xxunk 11 ] xxbos [ 2 5 17 9 ... 25 xxunk xxunk 11 ] xxbos [ 2 5 xxunk 16 ... 19 xxunk xxunk 11 ] xxbos [ 2 5 xxunk 11 ... 180 xxunk 11 26 ] xxbos [ 2 5 789 5 ... xxunk 209 359 11 ] xxbos [ 2 6 xxunk 6 ... 9 458 11 26 ]</td>\n",
       "    </tr>\n",
       "  </tbody>\n",
       "</table>"
      ],
      "text/plain": [
       "<IPython.core.display.HTML object>"
      ]
     },
     "metadata": {},
     "output_type": "display_data"
    }
   ],
   "source": [
    "data_clean.show_batch()"
   ]
  },
  {
   "cell_type": "code",
   "execution_count": 16,
   "metadata": {},
   "outputs": [
    {
     "data": {
      "text/plain": [
       "['\"', 'he', 'as', 'i', 'said', 'at', 'be', 'has', 'have', 'are']"
      ]
     },
     "execution_count": 16,
     "metadata": {},
     "output_type": "execute_result"
    }
   ],
   "source": [
    "data_clean.vocab.itos[30:40]"
   ]
  },
  {
   "cell_type": "code",
   "execution_count": 17,
   "metadata": {},
   "outputs": [
    {
     "data": {
      "text/plain": [
       "Text xxbos [ 2 6 225 92 ... 16 xxunk xxunk 11 ]"
      ]
     },
     "execution_count": 17,
     "metadata": {},
     "output_type": "execute_result"
    }
   ],
   "source": [
    "data_clean.train_ds[0][0]"
   ]
  },
  {
   "cell_type": "code",
   "execution_count": 21,
   "metadata": {},
   "outputs": [
    {
     "data": {
      "text/plain": [
       "array([    2,   170,   442,   682, 17072,  9227,   737,  1003,     0,     0])"
      ]
     },
     "execution_count": 21,
     "metadata": {},
     "output_type": "execute_result"
    }
   ],
   "source": [
    "data_clean.train_ds[0][0].data[:10]"
   ]
  },
  {
   "cell_type": "code",
   "execution_count": 25,
   "metadata": {},
   "outputs": [],
   "source": [
    "data_lm = load_data('.', 'data_lm_01.pkl', bs=bs)"
   ]
  },
  {
   "cell_type": "code",
   "execution_count": 26,
   "metadata": {},
   "outputs": [
    {
     "data": {
      "text/html": [
       "<table border=\"1\" class=\"dataframe\">\n",
       "  <thead>\n",
       "    <tr style=\"text-align: right;\">\n",
       "      <th>idx</th>\n",
       "      <th>text</th>\n",
       "    </tr>\n",
       "  </thead>\n",
       "  <tbody>\n",
       "    <tr>\n",
       "      <td>0</td>\n",
       "      <td>11 ] xxbos [ 2 5 xxunk 5 ... 81 342 1969 11 ] xxbos [ 2 5 312 25 ... xxunk xxunk 11 26 ] xxbos [ 2 5 9 xxunk ... 104 0 xxunk 11 ] xxbos [ 2 6 225 92 ... 93 73 103 26 ] xxbos [ 2 5 9 xxunk ... 57 135 188 11 ] xxbos [ 2 16 144 74 ... 199</td>\n",
       "    </tr>\n",
       "    <tr>\n",
       "      <td>1</td>\n",
       "      <td>47 196 ... xxunk 136 xxunk 14 ] xxbos [ 2 5 9 5 ... 57 xxunk 11 26 ] xxbos [ 2 5 263 51 ... 88 xxunk 11 26 ] xxbos [ 2 5 44 71 ... 36 xxunk 11 26 ] xxbos [ 2 5 27 29 ... 64 9 xxunk 11 ] xxbos [ 2 16 5 245 ... 1815 151 xxunk 11 ] xxbos [</td>\n",
       "    </tr>\n",
       "    <tr>\n",
       "      <td>2</td>\n",
       "      <td>27 11 26 ] xxbos [ 2 5 9 5 xxunk xxunk 5 xxunk 5 xxunk 12 9 5 xxunk 10 46 49 737 ] xxbos [ 2 6 157 290 ... xxunk 5 xxunk 11 ] xxbos [ 2 16 5 xxunk ... xxunk xxunk xxunk 11 ] xxbos [ 2 5 9 5 ... 88 498 585 11 ] xxbos [ 2 5 9 5 ... 88 498</td>\n",
       "    </tr>\n",
       "    <tr>\n",
       "      <td>3</td>\n",
       "      <td>2 5 xxunk 5 ... xxunk xxunk 11 26 ] xxbos [ 2 5 xxunk 53 ... 341 5 xxunk 11 ] xxbos [ 2 16 82 139 ... xxunk 6 269 11 ] xxbos [ 2 5 xxunk 5 ... xxunk 5 xxunk 11 ] xxbos [ 2 5 176 67 ... 12 xxunk 11 30 ] xxbos [ 2 16 xxunk xxunk ... 5 322 539 11 ]</td>\n",
       "    </tr>\n",
       "    <tr>\n",
       "      <td>4</td>\n",
       "      <td>2 5 73 25 ... 109 97 xxunk 11 ] xxbos [ 2 5 17 9 ... 25 xxunk xxunk 11 ] xxbos [ 2 5 xxunk 16 ... 19 xxunk xxunk 11 ] xxbos [ 2 5 xxunk 11 ... 180 xxunk 11 26 ] xxbos [ 2 5 789 5 ... xxunk 209 359 11 ] xxbos [ 2 6 xxunk 6 ... 9 458 11 26 ]</td>\n",
       "    </tr>\n",
       "  </tbody>\n",
       "</table>"
      ],
      "text/plain": [
       "<IPython.core.display.HTML object>"
      ]
     },
     "metadata": {},
     "output_type": "display_data"
    }
   ],
   "source": [
    "data_lm.show_batch()"
   ]
  },
  {
   "cell_type": "code",
   "execution_count": 28,
   "metadata": {},
   "outputs": [
    {
     "name": "stdout",
     "output_type": "stream",
     "text": [
      "Downloading https://s3.amazonaws.com/fast-ai-modelzoo/wt103-fwd\n"
     ]
    },
    {
     "data": {
      "text/html": [],
      "text/plain": [
       "<IPython.core.display.HTML object>"
      ]
     },
     "metadata": {},
     "output_type": "display_data"
    }
   ],
   "source": [
    "learn = language_model_learner(data_lm, AWD_LSTM, drop_mult=0.3)"
   ]
  },
  {
   "cell_type": "code",
   "execution_count": 32,
   "metadata": {},
   "outputs": [
    {
     "name": "stdout",
     "output_type": "stream",
     "text": [
      "The new book The Great American Bride of America ( 2014 ) , by James R. Brown , and The Gift of Marriage by Matthew Viability , the graphic novel by Martin Wallis , was a book that was based on The Lord of the Rings : The First World War and The War Within . In addition , the book of the same name was published in the United States by David\n",
      "The new book The Strategy of Malcolm Sargent = = \n",
      " \n",
      "  The Malcolm of Autobiography is an anthology of poetry written by Malcolm Sargent in 1920 . The book explores the history of Malcolm x 's career and his early years in the US . The book was the first book of the Autobiography of a Generation Poet , which was first published in 1966 in Dublin . The book contains the first chapters in three chapters , including the earlier Autobiography .\n"
     ]
    }
   ],
   "source": [
    "TEXT = \"The new book\"\n",
    "N_WORDS = 100\n",
    "N_SENTENCES = 2\n",
    "print(\"\\n\".join(learn.predict(TEXT, N_WORDS, temperature=0.75) for _ in range(N_SENTENCES)))"
   ]
  },
  {
   "cell_type": "code",
   "execution_count": null,
   "metadata": {},
   "outputs": [],
   "source": []
  }
 ],
 "metadata": {
  "kernelspec": {
   "display_name": "Python 3",
   "language": "python",
   "name": "python3"
  },
  "language_info": {
   "codemirror_mode": {
    "name": "ipython",
    "version": 3
   },
   "file_extension": ".py",
   "mimetype": "text/x-python",
   "name": "python",
   "nbconvert_exporter": "python",
   "pygments_lexer": "ipython3",
   "version": "3.7.6"
  }
 },
 "nbformat": 4,
 "nbformat_minor": 4
}
